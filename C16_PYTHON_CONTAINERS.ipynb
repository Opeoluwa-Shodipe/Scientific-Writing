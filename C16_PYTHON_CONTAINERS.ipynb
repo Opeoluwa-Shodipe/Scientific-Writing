{
 "cells": [
  {
   "cell_type": "code",
   "execution_count": null,
   "id": "8004121d",
   "metadata": {},
   "outputs": [],
   "source": [
    "Topics:\n",
    "    Containers:\n",
    "        Lists\n",
    "        Tuples\n",
    "        Sets\n",
    "        Dictionaries\n",
    "    Functions"
   ]
  },
  {
   "cell_type": "code",
   "execution_count": null,
   "id": "45af5ea6",
   "metadata": {},
   "outputs": [],
   "source": [
    "Scenario:\n",
    "    James is a teacher of Chemistry, Physics and Math. He has 10 students with the following details\n",
    "    \n",
    "    subjects are : Chem, Phy, Math\n",
    "    students: Joy, Agatha, Mary, Frank, Godwin, Chizulum, Enoc, Chinedu, Kenneth, Lukas\n",
    "        \n",
    "    math: 76,56,78,98,88,75,59,80,45,30\n",
    "    phy: 72,86,70,98,89,79,69,50,85,80\n",
    "    chem 75,66,77,45,83,75,59,40,65,90"
   ]
  },
  {
   "cell_type": "markdown",
   "id": "2d2cfcb9",
   "metadata": {},
   "source": [
    "# Lists "
   ]
  },
  {
   "cell_type": "code",
   "execution_count": 16,
   "id": "7ff0daec",
   "metadata": {},
   "outputs": [
    {
     "data": {
      "text/plain": [
       "list"
      ]
     },
     "execution_count": 16,
     "metadata": {},
     "output_type": "execute_result"
    }
   ],
   "source": [
    "# create an empty list\n",
    "\n",
    "myList = []\n",
    "\n",
    "type(myList)"
   ]
  },
  {
   "cell_type": "code",
   "execution_count": 17,
   "id": "19d8c8ef",
   "metadata": {},
   "outputs": [
    {
     "data": {
      "text/plain": [
       "0"
      ]
     },
     "execution_count": 17,
     "metadata": {},
     "output_type": "execute_result"
    }
   ],
   "source": [
    "#Check the length of a list (the number of items in the list)\n",
    "\n",
    "len(myList)"
   ]
  },
  {
   "cell_type": "code",
   "execution_count": null,
   "id": "05ef79a7",
   "metadata": {},
   "outputs": [],
   "source": [
    "#To populate a list:\n",
    "1. use the append method   append()"
   ]
  },
  {
   "cell_type": "code",
   "execution_count": 18,
   "id": "a70bf675",
   "metadata": {},
   "outputs": [],
   "source": [
    "# to create a List of the student names:\n",
    "\n",
    "# students: Joy, Agatha, Mary, Frank, Godwin, Chizulum, Enoc, Chinedu, Kenneth, Lukas\n",
    "\n",
    "myList.append('Joy')"
   ]
  },
  {
   "cell_type": "code",
   "execution_count": 19,
   "id": "f9cd7b40",
   "metadata": {},
   "outputs": [
    {
     "data": {
      "text/plain": [
       "1"
      ]
     },
     "execution_count": 19,
     "metadata": {},
     "output_type": "execute_result"
    }
   ],
   "source": [
    "len(myList)"
   ]
  },
  {
   "cell_type": "code",
   "execution_count": 20,
   "id": "fb4e28f8",
   "metadata": {},
   "outputs": [
    {
     "name": "stdout",
     "output_type": "stream",
     "text": [
      "['Joy']\n"
     ]
    }
   ],
   "source": [
    "print(myList)"
   ]
  },
  {
   "cell_type": "code",
   "execution_count": 21,
   "id": "c48a2d7f",
   "metadata": {},
   "outputs": [],
   "source": [
    "# the append method adds items at the LAST index position of the list  \n",
    "\n",
    "# to add an item to an exisiting list:\n",
    "\n",
    "myList.append('Agatha')"
   ]
  },
  {
   "cell_type": "code",
   "execution_count": 22,
   "id": "5f370f04",
   "metadata": {},
   "outputs": [
    {
     "data": {
      "text/plain": [
       "2"
      ]
     },
     "execution_count": 22,
     "metadata": {},
     "output_type": "execute_result"
    }
   ],
   "source": [
    "len(myList)"
   ]
  },
  {
   "cell_type": "code",
   "execution_count": 23,
   "id": "380bb1d8",
   "metadata": {},
   "outputs": [
    {
     "name": "stdout",
     "output_type": "stream",
     "text": [
      "['Joy', 'Agatha']\n"
     ]
    }
   ],
   "source": [
    "print(myList)"
   ]
  },
  {
   "cell_type": "code",
   "execution_count": 24,
   "id": "9838dd20",
   "metadata": {},
   "outputs": [],
   "source": [
    "#Task: Add Mary to the list\n",
    "\n",
    "myList.append('Mary')"
   ]
  },
  {
   "cell_type": "code",
   "execution_count": 25,
   "id": "1a5270aa",
   "metadata": {},
   "outputs": [
    {
     "data": {
      "text/plain": [
       "3"
      ]
     },
     "execution_count": 25,
     "metadata": {},
     "output_type": "execute_result"
    }
   ],
   "source": [
    "len(myList)"
   ]
  },
  {
   "cell_type": "code",
   "execution_count": 26,
   "id": "1ebfc379",
   "metadata": {},
   "outputs": [
    {
     "name": "stdout",
     "output_type": "stream",
     "text": [
      "['Joy', 'Agatha', 'Mary']\n"
     ]
    }
   ],
   "source": [
    "print(myList)"
   ]
  },
  {
   "cell_type": "code",
   "execution_count": 27,
   "id": "2a633392",
   "metadata": {},
   "outputs": [],
   "source": [
    "myList.append('Frank')"
   ]
  },
  {
   "cell_type": "code",
   "execution_count": 28,
   "id": "8c28242e",
   "metadata": {},
   "outputs": [
    {
     "data": {
      "text/plain": [
       "4"
      ]
     },
     "execution_count": 28,
     "metadata": {},
     "output_type": "execute_result"
    }
   ],
   "source": [
    "len(myList)\n"
   ]
  },
  {
   "cell_type": "code",
   "execution_count": 29,
   "id": "25f49eb8",
   "metadata": {},
   "outputs": [
    {
     "name": "stdout",
     "output_type": "stream",
     "text": [
      "['Joy', 'Agatha', 'Mary', 'Frank']\n"
     ]
    }
   ],
   "source": [
    "print(myList)"
   ]
  },
  {
   "cell_type": "code",
   "execution_count": 67,
   "id": "387509c4",
   "metadata": {},
   "outputs": [
    {
     "ename": "IndentationError",
     "evalue": "unexpected indent (<ipython-input-67-e5b18ed7a35d>, line 6)",
     "output_type": "error",
     "traceback": [
      "\u001b[1;36m  File \u001b[1;32m\"<ipython-input-67-e5b18ed7a35d>\"\u001b[1;36m, line \u001b[1;32m6\u001b[0m\n\u001b[1;33m    math = [76,56,78,98,88,75,59,80,45,30]\u001b[0m\n\u001b[1;37m    ^\u001b[0m\n\u001b[1;31mIndentationError\u001b[0m\u001b[1;31m:\u001b[0m unexpected indent\n"
     ]
    }
   ],
   "source": [
    "# Creating Lists for the information given in the Scienario \n",
    "\n",
    "subject = ['Chem', 'Phy', 'Math']\n",
    "students = ['Joy', 'Agatha', 'Mary', 'Frank', 'Godwin', 'Chizulum', 'Enoc', 'Chinedu', 'Kenneth', 'Lukas']\n",
    "\n",
    "math = [76,56,78,98,88,75,59,80,45,30]\n",
    "phy  = [72,86,70,98,89,79,69,50,85,80]\n",
    "chem  = [75,66,77,45,83,75,59,40,65,90]"
   ]
  },
  {
   "cell_type": "code",
   "execution_count": 31,
   "id": "94d9dd33",
   "metadata": {},
   "outputs": [
    {
     "data": {
      "text/plain": [
       "['Chem', 'Phy', 'Math']"
      ]
     },
     "execution_count": 31,
     "metadata": {},
     "output_type": "execute_result"
    }
   ],
   "source": [
    "subject"
   ]
  },
  {
   "cell_type": "code",
   "execution_count": 32,
   "id": "5b685fb5",
   "metadata": {},
   "outputs": [
    {
     "data": {
      "text/plain": [
       "['Joy',\n",
       " 'Agatha',\n",
       " 'Mary',\n",
       " 'Frank',\n",
       " 'Godwin',\n",
       " 'Chizulum',\n",
       " 'Enoc',\n",
       " 'Chinedu',\n",
       " 'Kenneth',\n",
       " 'Lukas']"
      ]
     },
     "execution_count": 32,
     "metadata": {},
     "output_type": "execute_result"
    }
   ],
   "source": [
    "students"
   ]
  },
  {
   "cell_type": "code",
   "execution_count": 33,
   "id": "e716993c",
   "metadata": {},
   "outputs": [
    {
     "data": {
      "text/plain": [
       "[76, 56, 78, 98, 88, 75, 59, 80, 45, 30]"
      ]
     },
     "execution_count": 33,
     "metadata": {},
     "output_type": "execute_result"
    }
   ],
   "source": [
    "math"
   ]
  },
  {
   "cell_type": "code",
   "execution_count": 36,
   "id": "ac55090e",
   "metadata": {},
   "outputs": [],
   "source": [
    "#Sub Scenario  \n",
    "\n",
    "'''James has 5 other students: Oluyemi, Gavin, Bello, Joshua, Divine\n",
    "    \n",
    "He wants it added to the students list ''' \n",
    "    \n",
    "# Let us explore two approaches:\n",
    "\n",
    "# using append  \n",
    "\n",
    "otherStudents = ['Oluyemi', 'Gavin', 'Bello', 'Joshua', 'Divine']\n",
    "\n",
    "# Add the new students one at a time  \n",
    "\n",
    "students.append('Oluyemi')\n",
    "students.append('Gavin')\n",
    "students.append('Bello')\n",
    "students.append('Joshua')\n",
    "students.append('Divine')"
   ]
  },
  {
   "cell_type": "code",
   "execution_count": 37,
   "id": "348eba4b",
   "metadata": {},
   "outputs": [
    {
     "data": {
      "text/plain": [
       "['Joy',\n",
       " 'Agatha',\n",
       " 'Mary',\n",
       " 'Frank',\n",
       " 'Godwin',\n",
       " 'Chizulum',\n",
       " 'Enoc',\n",
       " 'Chinedu',\n",
       " 'Kenneth',\n",
       " 'Lukas',\n",
       " 'Oluyemi',\n",
       " 'Gavin',\n",
       " 'Bello',\n",
       " 'Joshua',\n",
       " 'Divine']"
      ]
     },
     "execution_count": 37,
     "metadata": {},
     "output_type": "execute_result"
    }
   ],
   "source": [
    "students "
   ]
  },
  {
   "cell_type": "code",
   "execution_count": 38,
   "id": "533e6273",
   "metadata": {},
   "outputs": [
    {
     "name": "stdout",
     "output_type": "stream",
     "text": [
      "['Joy', 'Agatha', 'Mary', 'Frank', 'Godwin', 'Chizulum', 'Enoc', 'Chinedu', 'Kenneth', 'Lukas', 'Oluyemi', 'Gavin', 'Bello', 'Joshua', 'Divine']\n"
     ]
    }
   ],
   "source": [
    "# Using a FOR LOOP to add the items  \n",
    "\n",
    "otherStudents1 = ['Oluyemi', 'Gavin', 'Bello', 'Joshua', 'Divine']\n",
    "students1 = ['Joy', 'Agatha', 'Mary', 'Frank', 'Godwin', 'Chizulum', 'Enoc', 'Chinedu', 'Kenneth', 'Lukas']\n",
    "\n",
    "for name in otherStudents1:\n",
    "    students1.append(name)\n",
    "print(students1)"
   ]
  },
  {
   "cell_type": "code",
   "execution_count": 39,
   "id": "e330a0f4",
   "metadata": {},
   "outputs": [
    {
     "data": {
      "text/plain": [
       "['Joy',\n",
       " 'Agatha',\n",
       " 'Mary',\n",
       " 'Chidinma Okafor',\n",
       " 'Frank',\n",
       " 'Godwin',\n",
       " 'Chizulum',\n",
       " 'Enoc',\n",
       " 'Chinedu',\n",
       " 'Kenneth',\n",
       " 'Lukas',\n",
       " 'Oluyemi',\n",
       " 'Gavin',\n",
       " 'Bello',\n",
       " 'Joshua',\n",
       " 'Divine']"
      ]
     },
     "execution_count": 39,
     "metadata": {},
     "output_type": "execute_result"
    }
   ],
   "source": [
    "#Suppose I want to add a new student into the students1 list in position 3\n",
    "\n",
    "#Use the INSERT method\n",
    "\n",
    "#  Add Chidinma Okafor to the students1 list in the 3rd position \n",
    "\n",
    "newStudent = 'Chidinma Okafor'\n",
    "\n",
    "students1.insert(3,newStudent)\n",
    "students1 "
   ]
  },
  {
   "cell_type": "code",
   "execution_count": 42,
   "id": "3c3230e3",
   "metadata": {},
   "outputs": [
    {
     "data": {
      "text/plain": [
       "['Joy',\n",
       " 'Agatha',\n",
       " 'Mary',\n",
       " 'Frank',\n",
       " 'Godwin',\n",
       " 'Chizulum',\n",
       " 'Enoc',\n",
       " 'Chinedu',\n",
       " 'Kenneth',\n",
       " 'Lukas',\n",
       " 'Oluyemi',\n",
       " 'Gavin',\n",
       " 'Bello',\n",
       " 'Joshua',\n",
       " 'Divine']"
      ]
     },
     "execution_count": 42,
     "metadata": {},
     "output_type": "execute_result"
    }
   ],
   "source": [
    "#The EXTEND Method\n",
    "\n",
    "otherStudents1 = ['Oluyemi', 'Gavin', 'Bello', 'Joshua', 'Divine']\n",
    "students1 = ['Joy', 'Agatha', 'Mary', 'Frank', 'Godwin', 'Chizulum', 'Enoc', 'Chinedu', 'Kenneth', 'Lukas']\n",
    "\n",
    "# GOAL: merge both lists into one long list\n",
    "\n",
    "students1.extend(otherStudents1)\n",
    "\n",
    "students1"
   ]
  },
  {
   "cell_type": "code",
   "execution_count": 46,
   "id": "67f0cad4",
   "metadata": {},
   "outputs": [
    {
     "data": {
      "text/plain": [
       "('March', 'April', 'May')"
      ]
     },
     "execution_count": 46,
     "metadata": {},
     "output_type": "execute_result"
    }
   ],
   "source": [
    "# For LOOPS  \n",
    "\n",
    "months = ['January','February','March','April','May','June']\n",
    "\n",
    "#get 'January' from the list \n",
    "# January in in index position 0 \n",
    "\n",
    "months[2:5]\n",
    "\n"
   ]
  },
  {
   "cell_type": "code",
   "execution_count": null,
   "id": "c9367240",
   "metadata": {},
   "outputs": [],
   "source": [
    "#Syntax of a FOR LOOP  \n",
    "ListName = []\n",
    "for dynamicVaraible in ListName:\n",
    "    Do something with the fetched item from the list"
   ]
  },
  {
   "cell_type": "code",
   "execution_count": 47,
   "id": "fe13afd3",
   "metadata": {},
   "outputs": [
    {
     "name": "stdout",
     "output_type": "stream",
     "text": [
      "visiting list to grab an item\n",
      "January\n",
      "0\n",
      "Done with this item...going for another\n",
      "visiting list to grab an item\n",
      "February\n",
      "1\n",
      "Done with this item...going for another\n",
      "visiting list to grab an item\n",
      "March\n",
      "2\n",
      "Done with this item...going for another\n",
      "visiting list to grab an item\n",
      "April\n",
      "3\n",
      "Done with this item...going for another\n",
      "visiting list to grab an item\n",
      "May\n",
      "4\n",
      "Done with this item...going for another\n",
      "visiting list to grab an item\n",
      "June\n",
      "5\n",
      "Done with this item...going for another\n"
     ]
    }
   ],
   "source": [
    "months = ['January','February','March','April','May','June']\n",
    "\n",
    "for stella in months:\n",
    "    print('visiting list to grab an item')\n",
    "    print(stella)\n",
    "    print(months.index(stella))\n",
    "    print('Done with this item...going for another')"
   ]
  },
  {
   "cell_type": "code",
   "execution_count": 49,
   "id": "5e78d61b",
   "metadata": {},
   "outputs": [
    {
     "name": "stdout",
     "output_type": "stream",
     "text": [
      "23\n",
      "45\n",
      "43\n",
      "21\n"
     ]
    }
   ],
   "source": [
    "List2 = [23,45,66,87,43,21]\n",
    "\n",
    "for number in List2:\n",
    "    if number < 50: # Conditional Statement \n",
    "        print(number)"
   ]
  },
  {
   "cell_type": "code",
   "execution_count": 70,
   "id": "cca1e884",
   "metadata": {},
   "outputs": [
    {
     "name": "stdout",
     "output_type": "stream",
     "text": [
      "45\n",
      "43\n"
     ]
    }
   ],
   "source": [
    "List2 = [23,45,66,87,43,21]\n",
    "\n",
    "for number in List2:\n",
    "    if number > 40 and number < 50: # Conditional Statement \n",
    "        print(number)"
   ]
  },
  {
   "cell_type": "code",
   "execution_count": null,
   "id": "7d7c4d0c",
   "metadata": {},
   "outputs": [],
   "source": []
  },
  {
   "cell_type": "code",
   "execution_count": null,
   "id": "f5e14700",
   "metadata": {},
   "outputs": [],
   "source": []
  },
  {
   "cell_type": "code",
   "execution_count": 50,
   "id": "b5e90753",
   "metadata": {},
   "outputs": [
    {
     "name": "stdout",
     "output_type": "stream",
     "text": [
      "['Lagos', 'Kinshasa', 'Nairobi', 'Addis Ababa', 'Accra', 'Mumbai', 'New Dehli']\n"
     ]
    }
   ],
   "source": [
    "# Extend method Vs For Loop \n",
    "\n",
    "list1 = ['Lagos','Kinshasa', 'Nairobi', 'Addis Ababa']\n",
    "list2 = ['Accra', 'Mumbai','New Dehli']\n",
    "\n",
    "# Goal: combine into one list  \n",
    "\n",
    "#Extend  \n",
    "\n",
    "list1.extend(list2)\n",
    "print(list1)"
   ]
  },
  {
   "cell_type": "code",
   "execution_count": 51,
   "id": "808f1d4b",
   "metadata": {},
   "outputs": [
    {
     "name": "stdout",
     "output_type": "stream",
     "text": [
      "['Lagos', 'Kinshasa', 'Nairobi', 'Addis Ababa', 'Accra', 'Mumbai', 'New Dehli']\n"
     ]
    }
   ],
   "source": [
    "# Extend method Vs For Loop \n",
    "\n",
    "list1 = ['Lagos','Kinshasa', 'Nairobi', 'Addis Ababa']\n",
    "list2 = ['Accra', 'Mumbai','New Dehli']\n",
    "\n",
    "# Goal: combine into one list  \n",
    "\n",
    "#For Loop\n",
    "\n",
    "for item in list2:\n",
    "    list1.append(item)\n",
    "print(list1)"
   ]
  },
  {
   "cell_type": "code",
   "execution_count": 54,
   "id": "3f1b2bbe",
   "metadata": {},
   "outputs": [],
   "source": [
    "# Lists can hold multiple object types \n",
    "\n",
    "list3 = []\n",
    "list3.append(4)\n",
    "list3.append('Jerry')"
   ]
  },
  {
   "cell_type": "code",
   "execution_count": 55,
   "id": "4958b9ee",
   "metadata": {},
   "outputs": [
    {
     "name": "stdout",
     "output_type": "stream",
     "text": [
      "[4, 'Jerry']\n"
     ]
    }
   ],
   "source": [
    "print(list3)"
   ]
  },
  {
   "cell_type": "code",
   "execution_count": 57,
   "id": "02629613",
   "metadata": {},
   "outputs": [],
   "source": [
    "# Tupules\n",
    "\n",
    "#Tuples behave mostly like lists but are immutable  \n",
    "\n",
    "myTuple = ('Jerry', 'Mark','Sandeep')"
   ]
  },
  {
   "cell_type": "code",
   "execution_count": 58,
   "id": "702bded6",
   "metadata": {},
   "outputs": [
    {
     "data": {
      "text/plain": [
       "tuple"
      ]
     },
     "execution_count": 58,
     "metadata": {},
     "output_type": "execute_result"
    }
   ],
   "source": [
    "type(myTuple)"
   ]
  },
  {
   "cell_type": "code",
   "execution_count": 60,
   "id": "7aaee4f7",
   "metadata": {},
   "outputs": [
    {
     "ename": "AttributeError",
     "evalue": "'tuple' object has no attribute 'insert'",
     "output_type": "error",
     "traceback": [
      "\u001b[1;31m---------------------------------------------------------------------------\u001b[0m",
      "\u001b[1;31mAttributeError\u001b[0m                            Traceback (most recent call last)",
      "\u001b[1;32m<ipython-input-60-439fa5fb9a45>\u001b[0m in \u001b[0;36m<module>\u001b[1;34m\u001b[0m\n\u001b[1;32m----> 1\u001b[1;33m \u001b[0mmyTuple\u001b[0m\u001b[1;33m.\u001b[0m\u001b[0minsert\u001b[0m\u001b[1;33m(\u001b[0m\u001b[1;36m2\u001b[0m\u001b[1;33m,\u001b[0m \u001b[1;34m'Stanley'\u001b[0m\u001b[1;33m)\u001b[0m\u001b[1;33m\u001b[0m\u001b[1;33m\u001b[0m\u001b[0m\n\u001b[0m",
      "\u001b[1;31mAttributeError\u001b[0m: 'tuple' object has no attribute 'insert'"
     ]
    }
   ],
   "source": [
    "myTuple.insert(2, 'Stanley')"
   ]
  },
  {
   "cell_type": "code",
   "execution_count": 61,
   "id": "e3b98e69",
   "metadata": {},
   "outputs": [
    {
     "data": {
      "text/plain": [
       "'Jerry'"
      ]
     },
     "execution_count": 61,
     "metadata": {},
     "output_type": "execute_result"
    }
   ],
   "source": [
    "myTuple[0]"
   ]
  },
  {
   "cell_type": "code",
   "execution_count": 62,
   "id": "5052b4ff",
   "metadata": {},
   "outputs": [
    {
     "name": "stdout",
     "output_type": "stream",
     "text": [
      "Jerry\n",
      "Mark\n",
      "Sandeep\n"
     ]
    }
   ],
   "source": [
    "for item in myTuple:\n",
    "    print(item)"
   ]
  },
  {
   "cell_type": "code",
   "execution_count": 65,
   "id": "1267357b",
   "metadata": {},
   "outputs": [
    {
     "name": "stdout",
     "output_type": "stream",
     "text": [
      "('Jerry', 'Mark', 'Sandeep')\n"
     ]
    }
   ],
   "source": [
    "myTuple = ('Jerry', 'Mark','Sandeep')\n",
    "\n",
    "print(myTuple)"
   ]
  },
  {
   "cell_type": "code",
   "execution_count": 66,
   "id": "36cc32cc",
   "metadata": {},
   "outputs": [
    {
     "name": "stdout",
     "output_type": "stream",
     "text": [
      "(2, 5, 'Sandeep')\n"
     ]
    }
   ],
   "source": [
    "myTuple = (2, 5,'Sandeep')\n",
    "print(myTuple)"
   ]
  },
  {
   "cell_type": "code",
   "execution_count": 69,
   "id": "63e7246e",
   "metadata": {},
   "outputs": [
    {
     "name": "stdout",
     "output_type": "stream",
     "text": [
      "ar\n"
     ]
    }
   ],
   "source": [
    "student1 = 'Jerry'\n",
    "student1 = 'Mary'\n",
    "\n",
    "print(student1[1:-1])"
   ]
  },
  {
   "cell_type": "code",
   "execution_count": 76,
   "id": "06c7b7e4",
   "metadata": {},
   "outputs": [],
   "source": [
    "x = 5\n",
    "x\n",
    "y = 6\n",
    "\n"
   ]
  },
  {
   "cell_type": "markdown",
   "id": "7a4e3fd7",
   "metadata": {},
   "source": [
    "# Sets"
   ]
  },
  {
   "cell_type": "code",
   "execution_count": null,
   "id": "203cf28d",
   "metadata": {},
   "outputs": [],
   "source": [
    "Sets are container type that holds ONLY unique items. It does not allow duplicates"
   ]
  },
  {
   "cell_type": "code",
   "execution_count": 78,
   "id": "1feb4bf7",
   "metadata": {},
   "outputs": [],
   "source": [
    "list4 = []\n",
    "list4.append('James')\n",
    "list4.append('James')"
   ]
  },
  {
   "cell_type": "code",
   "execution_count": 79,
   "id": "cba5ba46",
   "metadata": {},
   "outputs": [
    {
     "data": {
      "text/plain": [
       "['James', 'James']"
      ]
     },
     "execution_count": 79,
     "metadata": {},
     "output_type": "execute_result"
    }
   ],
   "source": [
    "list4"
   ]
  },
  {
   "cell_type": "code",
   "execution_count": 80,
   "id": "931a9538",
   "metadata": {},
   "outputs": [],
   "source": [
    "mySet = set() # creating an empty set"
   ]
  },
  {
   "cell_type": "code",
   "execution_count": 81,
   "id": "01078a77",
   "metadata": {},
   "outputs": [
    {
     "data": {
      "text/plain": [
       "set"
      ]
     },
     "execution_count": 81,
     "metadata": {},
     "output_type": "execute_result"
    }
   ],
   "source": [
    "type(mySet)"
   ]
  },
  {
   "cell_type": "code",
   "execution_count": 82,
   "id": "cee16ed9",
   "metadata": {},
   "outputs": [],
   "source": [
    "cityList = ['Lagos', 'Kinshasa', 'Nairobi', 'Addis Ababa', 'Accra', 'Mumbai', 'New Dehli', 'Mumbai', 'Lagos']"
   ]
  },
  {
   "cell_type": "code",
   "execution_count": 83,
   "id": "f23f7db5",
   "metadata": {},
   "outputs": [
    {
     "name": "stdout",
     "output_type": "stream",
     "text": [
      "['Lagos', 'Kinshasa', 'Nairobi', 'Addis Ababa', 'Accra', 'Mumbai', 'New Dehli', 'Mumbai', 'Lagos']\n"
     ]
    }
   ],
   "source": [
    "print(cityList)"
   ]
  },
  {
   "cell_type": "code",
   "execution_count": 84,
   "id": "3a280aa6",
   "metadata": {},
   "outputs": [
    {
     "data": {
      "text/plain": [
       "{'Accra', 'Addis Ababa', 'Kinshasa', 'Lagos', 'Mumbai', 'Nairobi', 'New Dehli'}"
      ]
     },
     "execution_count": 84,
     "metadata": {},
     "output_type": "execute_result"
    }
   ],
   "source": [
    "#Convert cittyList to a set  \n",
    "\n",
    "set(cityList)"
   ]
  },
  {
   "cell_type": "code",
   "execution_count": 85,
   "id": "8b6baf02",
   "metadata": {},
   "outputs": [],
   "source": [
    "cityList = ['Lagos', 'Kinshasa', 'Nairobi', 'Addis Ababa',4,7,89,9,9]"
   ]
  },
  {
   "cell_type": "code",
   "execution_count": 86,
   "id": "542c982d",
   "metadata": {},
   "outputs": [
    {
     "data": {
      "text/plain": [
       "['Lagos', 'Kinshasa', 'Nairobi', 'Addis Ababa', 4, 7, 89, 9, 9]"
      ]
     },
     "execution_count": 86,
     "metadata": {},
     "output_type": "execute_result"
    }
   ],
   "source": [
    "cityList"
   ]
  },
  {
   "cell_type": "code",
   "execution_count": 87,
   "id": "572e66d8",
   "metadata": {},
   "outputs": [
    {
     "data": {
      "text/plain": [
       "{4, 7, 89, 9, 'Addis Ababa', 'Kinshasa', 'Lagos', 'Nairobi'}"
      ]
     },
     "execution_count": 87,
     "metadata": {},
     "output_type": "execute_result"
    }
   ],
   "source": [
    "set(cityList)"
   ]
  },
  {
   "cell_type": "code",
   "execution_count": 101,
   "id": "97f65f9b",
   "metadata": {},
   "outputs": [
    {
     "name": "stdout",
     "output_type": "stream",
     "text": [
      "{4, 7, 9, 'Lagos', 'Kinshasa', 89, 'Addis Ababa', 'Nairobi'}\n"
     ]
    }
   ],
   "source": [
    "print(set(cityList))"
   ]
  },
  {
   "cell_type": "markdown",
   "id": "d2bf881c",
   "metadata": {},
   "source": [
    "# Dictionaries "
   ]
  },
  {
   "cell_type": "code",
   "execution_count": null,
   "id": "c3cea076",
   "metadata": {},
   "outputs": [],
   "source": [
    "Scenario:\n",
    "    \n",
    "    A mother has 5 kids and wants to be able to store each child's \n",
    "    name and their shoe size in a container. She has provided the following info  \n",
    "    \n",
    "kidNames = ['Oluyemi', 'Gavin', 'Bello', 'Joshua', 'Divine']\n",
    "\n",
    "shoeSizes = [32,23,43,21,12]"
   ]
  },
  {
   "cell_type": "code",
   "execution_count": null,
   "id": "6d2436cd",
   "metadata": {},
   "outputs": [],
   "source": [
    "Dictionaries allow us to store pairs of information using KEYS and Value pairs"
   ]
  },
  {
   "cell_type": "code",
   "execution_count": null,
   "id": "f8c60b7f",
   "metadata": {},
   "outputs": [],
   "source": [
    "SYNTAX:\n",
    "    \n",
    "    {KEY1:VALUE1, KEY2:VALUE2, KEY3:VALUE3,.....KEYn:VALUEn}"
   ]
  },
  {
   "cell_type": "code",
   "execution_count": null,
   "id": "5b12cdfc",
   "metadata": {},
   "outputs": [],
   "source": [
    "RULES to Observe:\n",
    "    1. Keys MUST be unique in the dictionary. No duplicate keys allowed\n",
    "    2. Keys and their corresponding values MUST be seperated by a colon\n",
    "    3. Items in a dictionary MUST be seperated by a comma\n",
    "    4. The KEY MUSt always be an immutable object"
   ]
  },
  {
   "cell_type": "code",
   "execution_count": 102,
   "id": "4f2a805b",
   "metadata": {},
   "outputs": [
    {
     "data": {
      "text/plain": [
       "dict"
      ]
     },
     "execution_count": 102,
     "metadata": {},
     "output_type": "execute_result"
    }
   ],
   "source": [
    "# Implementation 1:\n",
    "\n",
    "#step 1: Create an empty dictionary\n",
    "\n",
    "shoeSizeDict = dict()\n",
    "type(shoeSizeDict)\n",
    "\n"
   ]
  },
  {
   "cell_type": "code",
   "execution_count": null,
   "id": "f5ebf8e0",
   "metadata": {},
   "outputs": [],
   "source": [
    "# SYNTAX for adding items to a dictionary\n",
    "\n",
    "DictionaryName[KEY] = VALUE\n",
    "\n"
   ]
  },
  {
   "cell_type": "code",
   "execution_count": 89,
   "id": "8554cdde",
   "metadata": {},
   "outputs": [],
   "source": [
    "shoeSizeDict['Oluyemi'] = 32\n",
    "shoeSizeDict['Gavin'] = 23"
   ]
  },
  {
   "cell_type": "code",
   "execution_count": 90,
   "id": "ef3e9882",
   "metadata": {},
   "outputs": [
    {
     "data": {
      "text/plain": [
       "{'Oluyemi': 32, 'Gavin': 23}"
      ]
     },
     "execution_count": 90,
     "metadata": {},
     "output_type": "execute_result"
    }
   ],
   "source": [
    "shoeSizeDict"
   ]
  },
  {
   "cell_type": "code",
   "execution_count": null,
   "id": "c1ed2059",
   "metadata": {},
   "outputs": [],
   "source": []
  },
  {
   "cell_type": "code",
   "execution_count": 91,
   "id": "6f86ae52",
   "metadata": {},
   "outputs": [
    {
     "name": "stdout",
     "output_type": "stream",
     "text": [
      "Oluyemi 32\n",
      "Gavin 23\n",
      "Bello 43\n",
      "Joshua 21\n",
      "Divine 12\n"
     ]
    }
   ],
   "source": [
    "kidNames = ['Oluyemi', 'Gavin', 'Bello', 'Joshua', 'Divine']\n",
    "\n",
    "shoeSizes = [32,23,43,21,12]\n",
    "\n",
    "for kid, size in zip(kidNames,shoeSizes):\n",
    "    print(kid, size)"
   ]
  },
  {
   "cell_type": "code",
   "execution_count": 94,
   "id": "951458bd",
   "metadata": {},
   "outputs": [],
   "source": [
    "kidNames = ['Oluyemi', 'Gavin', 'Bello', 'Joshua', 'Divine']\n",
    "\n",
    "shoeSizes = [32,23,43,21,12]\n",
    "shoeSizeDict = dict()\n",
    "\n",
    "for kid, size in zip(kidNames,shoeSizes):\n",
    "    shoeSizeDict[kid] = size"
   ]
  },
  {
   "cell_type": "code",
   "execution_count": 95,
   "id": "2af17338",
   "metadata": {},
   "outputs": [
    {
     "data": {
      "text/plain": [
       "{'Oluyemi': 32, 'Gavin': 23, 'Bello': 43, 'Joshua': 21, 'Divine': 12}"
      ]
     },
     "execution_count": 95,
     "metadata": {},
     "output_type": "execute_result"
    }
   ],
   "source": [
    "shoeSizeDict"
   ]
  },
  {
   "cell_type": "code",
   "execution_count": null,
   "id": "067a39fc",
   "metadata": {},
   "outputs": [],
   "source": [
    "# how can i access the neame of each child and their shoe size from the dictionary? "
   ]
  },
  {
   "cell_type": "code",
   "execution_count": null,
   "id": "3b72e671",
   "metadata": {},
   "outputs": [],
   "source": [
    "SYNTAX to access shoes sizes for each child\n",
    "\n",
    "nameoFDictionary[KEY]\n",
    "nameoFDictionary[NAMEOFCHILD]"
   ]
  },
  {
   "cell_type": "code",
   "execution_count": 98,
   "id": "e628dc19",
   "metadata": {},
   "outputs": [
    {
     "data": {
      "text/plain": [
       "12"
      ]
     },
     "execution_count": 98,
     "metadata": {},
     "output_type": "execute_result"
    }
   ],
   "source": [
    "# What is the shoe size for GAVIN\n",
    "\n",
    "shoeSizeDict['Divine']"
   ]
  },
  {
   "cell_type": "code",
   "execution_count": null,
   "id": "28e89463",
   "metadata": {},
   "outputs": [],
   "source": []
  },
  {
   "cell_type": "code",
   "execution_count": null,
   "id": "533d34a0",
   "metadata": {},
   "outputs": [],
   "source": [
    "#TAKE HOME ASSIGNMENT  \n",
    "\n",
    "1.  Create a SINGLE dictionary to hold the following information organized by subject\n",
    "\n",
    "    # Creating Lists for the information given in the Scienario \n",
    "\n",
    "    subject = ['Chem', 'Phy', 'Math']\n",
    "    students = ['Joy', 'Agatha', 'Mary', 'Frank', 'Godwin', 'Chizulum', 'Enoc', 'Chinedu', 'Kenneth', 'Lukas']\n",
    "\n",
    "    math = [76,56,78,98,88,75,59,80,45,30]\n",
    "    phy  = [72,86,70,98,89,79,69,50,85,80]\n",
    "    chem  = [75,66,77,45,83,75,59,40,65,90]\n",
    "    \n",
    "2. Show how to access each students' exam subject scores "
   ]
  },
  {
   "cell_type": "code",
   "execution_count": null,
   "id": "85433c74",
   "metadata": {},
   "outputs": [],
   "source": []
  },
  {
   "cell_type": "code",
   "execution_count": 99,
   "id": "35b03a62",
   "metadata": {},
   "outputs": [
    {
     "name": "stdout",
     "output_type": "stream",
     "text": [
      "visiting list to grab an item\n",
      "January\n",
      "0\n",
      "Done with this item...going for another\n",
      "visiting list to grab an item\n",
      "February\n",
      "1\n",
      "Done with this item...going for another\n",
      "visiting list to grab an item\n",
      "March\n",
      "2\n",
      "Done with this item...going for another\n",
      "visiting list to grab an item\n",
      "April\n",
      "3\n",
      "Done with this item...going for another\n",
      "visiting list to grab an item\n",
      "May\n",
      "4\n",
      "Done with this item...going for another\n",
      "visiting list to grab an item\n",
      "June\n",
      "5\n",
      "Done with this item...going for another\n"
     ]
    }
   ],
   "source": [
    "months = ['January','February','March','April','May','June']\n",
    "\n",
    "for joy in months:\n",
    "    print('visiting list to grab an item')\n",
    "    print(joy)\n",
    "    print(months.index(joy))\n",
    "    print('Done with this item...going for another')"
   ]
  },
  {
   "cell_type": "code",
   "execution_count": 100,
   "id": "059900ba",
   "metadata": {},
   "outputs": [
    {
     "data": {
      "text/plain": [
       "{'James': ['mon', 'tue'],\n",
       " 'Jerry': ['wed', 'thur'],\n",
       " 'Agatha': ['fri', 'sat', 'sun']}"
      ]
     },
     "execution_count": 100,
     "metadata": {},
     "output_type": "execute_result"
    }
   ],
   "source": [
    "cleaners = ['James','Jerry','Agatha']\n",
    "DOW = ['mon', 'tue', 'wed','thur','fri','sat', 'sun']\n",
    "\n",
    "cleanRoster = dict()\n",
    "\n",
    "for cleaner, day in zip(cleaners,DOW):\n",
    "    days = ''\n",
    "    if cleaner == 'James':\n",
    "        days = ['mon', 'tue']\n",
    "    elif cleaner == 'Jerry':\n",
    "        days = ['wed','thur']\n",
    "    elif cleaner == 'Agatha':\n",
    "        days = ['fri','sat', 'sun']\n",
    "    else:\n",
    "        pass\n",
    "    \n",
    "    cleanRoster[cleaner] = days\n",
    "    \n",
    "cleanRoster"
   ]
  },
  {
   "cell_type": "code",
   "execution_count": null,
   "id": "04a77c51",
   "metadata": {},
   "outputs": [],
   "source": []
  }
 ],
 "metadata": {
  "kernelspec": {
   "display_name": "Python 3",
   "language": "python",
   "name": "python3"
  },
  "language_info": {
   "codemirror_mode": {
    "name": "ipython",
    "version": 3
   },
   "file_extension": ".py",
   "mimetype": "text/x-python",
   "name": "python",
   "nbconvert_exporter": "python",
   "pygments_lexer": "ipython3",
   "version": "3.8.8"
  }
 },
 "nbformat": 4,
 "nbformat_minor": 5
}
